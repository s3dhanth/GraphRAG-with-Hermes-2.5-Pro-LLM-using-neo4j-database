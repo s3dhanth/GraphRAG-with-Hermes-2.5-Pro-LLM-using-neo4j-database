{
 "cells": [
  {
   "cell_type": "code",
   "execution_count": 1,
   "metadata": {},
   "outputs": [
    {
     "data": {
      "text/plain": [
       "True"
      ]
     },
     "execution_count": 1,
     "metadata": {},
     "output_type": "execute_result"
    }
   ],
   "source": [
    "from langchain_core.runnables import  RunnablePassthrough\n",
    "from langchain_core.prompts import ChatPromptTemplate\n",
    "from langchain_core.pydantic_v1 import BaseModel, Field\n",
    "from langchain_core.output_parsers import StrOutputParser\n",
    "import os\n",
    "from langchain_community.graphs import Neo4jGraph\n",
    "from langchain.text_splitter import RecursiveCharacterTextSplitter\n",
    "from langchain_openai import ChatOpenAI\n",
    "from langchain_community.chat_models import ChatOllama\n",
    "from langchain_experimental.graph_transformers import LLMGraphTransformer\n",
    "from neo4j import GraphDatabase\n",
    "from yfiles_jupyter_graphs import GraphWidget\n",
    "from langchain_community.vectorstores import Neo4jVector\n",
    "from langchain_openai import OpenAIEmbeddings\n",
    "from langchain_community.document_loaders import TextLoader\n",
    "from langchain_community.vectorstores.neo4j_vector import remove_lucene_chars\n",
    "\n",
    "from dotenv import load_dotenv\n",
    "\n",
    "load_dotenv()"
   ]
  },
  {
   "cell_type": "code",
   "execution_count": 2,
   "metadata": {},
   "outputs": [],
   "source": [
    "graph = Neo4jGraph()"
   ]
  },
  {
   "cell_type": "code",
   "execution_count": 3,
   "metadata": {},
   "outputs": [],
   "source": [
    "loader = TextLoader(file_path=\"dummytext.txt\")\n",
    "docs = loader.load()\n",
    "\n",
    "text_splitter = RecursiveCharacterTextSplitter(chunk_size=250, chunk_overlap=24)\n",
    "documents = text_splitter.split_documents(documents=docs)"
   ]
  },
  {
   "cell_type": "code",
   "execution_count": 10,
   "metadata": {},
   "outputs": [
    {
     "data": {
      "text/plain": [
       "Document(metadata={'source': 'dummytext.txt'}, page_content='contributing their skills and resources to help those in need.')"
      ]
     },
     "execution_count": 10,
     "metadata": {},
     "output_type": "execute_result"
    }
   ],
   "source": [
    "documents.pop(61)"
   ]
  },
  {
   "cell_type": "code",
   "execution_count": 12,
   "metadata": {},
   "outputs": [
    {
     "data": {
      "text/plain": [
       "Document(metadata={'source': 'dummytext.txt'}, page_content='4. Cultural and Culinary Festivals')"
      ]
     },
     "execution_count": 12,
     "metadata": {},
     "output_type": "execute_result"
    }
   ],
   "source": [
    "documents.pop(61)"
   ]
  },
  {
   "cell_type": "code",
   "execution_count": 13,
   "metadata": {},
   "outputs": [
    {
     "data": {
      "text/plain": [
       "Document(metadata={'source': 'dummytext.txt'}, page_content='The Carusos believed in celebrating diversity through food and culture. They organized annual cultural and culinary festivals at their respective restaurants, showcasing traditional Sicilian dishes alongside other international cuisines. These')"
      ]
     },
     "execution_count": 13,
     "metadata": {},
     "output_type": "execute_result"
    }
   ],
   "source": [
    "documents[61]"
   ]
  },
  {
   "cell_type": "code",
   "execution_count": 14,
   "metadata": {},
   "outputs": [],
   "source": [
    "llm_type = os.getenv(\"LLM_TYPE\", \"ollama\")\n",
    "if llm_type == \"ollama\":\n",
    "    llm = ChatOllama(model=\"llama3.1\", temperature=0)\n",
    "else:\n",
    "    llm = ChatOpenAI(temperature=0, model=\"gpt-4o-mini\")\n",
    "llm_transformer = LLMGraphTransformer(llm=llm)\n",
    "\n",
    "graph_documents = llm_transformer.convert_to_graph_documents(documents)"
   ]
  },
  {
   "cell_type": "code",
   "execution_count": 15,
   "metadata": {},
   "outputs": [
    {
     "name": "stdout",
     "output_type": "stream",
     "text": [
      "1\n",
      "2\n",
      "3\n",
      "5\n",
      "6\n",
      "7\n",
      "8\n",
      "9\n",
      "10\n",
      "11\n",
      "12\n",
      "13\n",
      "14\n",
      "15\n",
      "16\n",
      "17\n",
      "18\n",
      "19\n",
      "20\n",
      "21\n",
      "22\n",
      "23\n",
      "24\n",
      "25\n",
      "26\n",
      "27\n",
      "28\n",
      "29\n",
      "30\n",
      "31\n",
      "32\n",
      "33\n",
      "34\n",
      "35\n",
      "36\n",
      "37\n",
      "38\n",
      "39\n",
      "40\n",
      "41\n",
      "42\n",
      "43\n",
      "44\n",
      "45\n",
      "46\n",
      "47\n",
      "48\n",
      "49\n",
      "50\n",
      "51\n",
      "52\n",
      "53\n",
      "54\n",
      "55\n",
      "56\n",
      "57\n",
      "58\n",
      "59\n",
      "60\n",
      "61\n",
      "62\n",
      "63\n",
      "64\n",
      "65\n",
      "66\n",
      "67\n",
      "68\n",
      "69\n",
      "70\n",
      "71\n",
      "72\n"
     ]
    }
   ],
   "source": [
    "i = 0\n",
    "while i <= len(graph_documents):\n",
    "    try:\n",
    "        if i == 3:\n",
    "            i = i+1\n",
    "            pass\n",
    "        graph.add_graph_documents(graph_documents[i:i+1],baseEntityLabel=True,include_source=True)\n",
    "        i = i+1\n",
    "        print(i)\n",
    "    except Exception as e:\n",
    "        print(e)\n",
    "        pass\n"
   ]
  },
  {
   "cell_type": "code",
   "execution_count": 16,
   "metadata": {},
   "outputs": [
    {
     "data": {
      "text/plain": [
       "[GraphDocument(nodes=[Node(id=\"Amico's Family\", type='Family'), Node(id='The Story of Amico’s Family: A Legacy of Love and Tradition', type='Text')], relationships=[Relationship(source=Node(id=\"Amico's Family\", type='Family'), target=Node(id='The Story of Amico’s Family: A Legacy of Love and Tradition', type='Text'), type='IS_DESCRIBED_IN')], source=Document(metadata={'source': 'dummytext.txt', 'id': '03df7629bb2ac3c69a29fff4d805bae7'}, page_content='1. The Story of Amicoâ€™s Family: A Legacy of Love and Tradition')),\n",
       " GraphDocument(nodes=[Node(id='Santa Caterina', type='Location'), Node(id='Sicily', type='Region'), Node(id=\"Sicily's culinary tapestry\", type='Cultural Heritage'), Node(id='Caruso family', type='Family')], relationships=[Relationship(source=Node(id='Santa Caterina', type='Location'), target=Node(id='Sicily', type='Region'), type='LOCATED_IN'), Relationship(source=Node(id='Caruso family', type='Family'), target=Node(id='Santa Caterina', type='Location'), type='ORIGINATES_FROM'), Relationship(source=Node(id='Caruso family', type='Family'), target=Node(id=\"Sicily's culinary tapestry\", type='Cultural Heritage'), type='INTERWOVEN_WITH')], source=Document(metadata={'source': 'dummytext.txt', 'id': 'da1344f72d2b4be3eec4f2c475251de2'}, page_content=\"In the idyllic village of Santa Caterina, amidst the rolling hills and sun-kissed landscapes of Sicily, lies the genesis of the Caruso family, a lineage intertwined with the island's rich culinary tapestry. The Carusos were not mere inhabitants of\")),\n",
       " GraphDocument(nodes=[Node(id='deep-seated love', type='Emotion'), Node(id='narrative of flavors', type='Concept'), Node(id='culinary heritage', type='Concept'), Node(id='family members', type='Group')], relationships=[Relationship(source=Node(id='family members', type='Group'), target=Node(id='culinary heritage', type='Concept'), type='CONTRIBUTED_TO'), Relationship(source=Node(id='family members', type='Group'), target=Node(id='narrative of flavors', type='Concept'), type='REFLECTED_IN'), Relationship(source=Node(id='family members', type='Group'), target=Node(id='deep-seated love', type='Emotion'), type='EXHIBITED')], source=Document(metadata={'source': 'dummytext.txt', 'id': '608aa3cb5e0669d9328a2a6f161d768c'}, page_content='not mere inhabitants of the land; they were the keepers of a culinary heritage that spanned generations. Each family member contributed their unique flair, crafting a narrative of flavors that reflected their diverse experiences and deep-seated love')),\n",
       " GraphDocument(nodes=[Node(id='food', type='Concept'), Node(id='', type='')], relationships=[Relationship(source=Node(id='food', type='Concept'), target=Node(id='', type=''), type='None')], source=Document(metadata={'source': 'dummytext.txt'}, page_content='and deep-seated love for food.')),\n",
       " GraphDocument(nodes=[Node(id='Giovanni Caruso', type='Person'), Node(id='Maria', type='Person')], relationships=[Relationship(source=Node(id='Giovanni Caruso', type='Person'), target=Node(id='Maria', type='Person'), type='FAMILY_MEMBER_OF')], source=Document(metadata={'source': 'dummytext.txt', 'id': '3d29be2f7e79f8b2f67f8e4f17cd95a7'}, page_content='Giovanni Caruso and Maria: The Founding Generation')),\n",
       " GraphDocument(nodes=[Node(id='region', type='Location'), Node(id='Santa Caterina', type='Location'), Node(id='Giovanni Caruso', type='Person'), Node(id='farmer', type='Occupation'), Node(id='Amico', type='Person'), Node(id='olives and grapes', type='Product')], relationships=[Relationship(source=Node(id='Giovanni Caruso', type='Person'), target=Node(id='Amico', type='Person'), type='IS_DESCENDANT_OF'), Relationship(source=Node(id='Giovanni Caruso', type='Person'), target=Node(id='Santa Caterina', type='Location'), type='LIVES_IN'), Relationship(source=Node(id='Giovanni Caruso', type='Person'), target=Node(id='farmer', type='Occupation'), type='WORKS_AS'), Relationship(source=Node(id='Giovanni Caruso', type='Person'), target=Node(id='olives and grapes', type='Product'), type='PRODUCES'), Relationship(source=Node(id='Santa Caterina', type='Location'), target=Node(id='region', type='Location'), type='LOCATED_IN_REGION')], source=Document(metadata={'source': 'dummytext.txt', 'id': 'ebcc965a447b44e84a2ba52cd829625c'}, page_content=\"Giovanni Caruso, Amico's great-grandfather, was a man of the earth. His calloused hands spoke of years spent cultivating the fertile soils of Santa Caterina, producing olives and grapes that were the pride of the region. Giovanni was not just a\")),\n",
       " GraphDocument(nodes=[Node(id='oils and wines', type='Product'), Node(id='hearty stews and delicate dishes', type='Product'), Node(id='Giovanni', type='Person'), Node(id='dishes', type='Product'), Node(id='Maria', type='Person'), Node(id='flavors', type='Concept')], relationships=[Relationship(source=Node(id='Giovanni', type='Person'), target=Node(id='flavors', type='Concept'), type='IS_ALCHEMIST_OF_FLAVORS'), Relationship(source=Node(id='Giovanni', type='Person'), target=Node(id='oils and wines', type='Product'), type='PRODUCES'), Relationship(source=Node(id='Giovanni', type='Person'), target=Node(id='Maria', type='Person'), type='IS_HUSBAND_OF'), Relationship(source=Node(id='Maria', type='Person'), target=Node(id='Giovanni', type='Person'), type='IS_WIFE_OF'), Relationship(source=Node(id='Maria', type='Person'), target=Node(id='dishes', type='Product'), type='IS_MASTERFUL_COOK'), Relationship(source=Node(id='Maria', type='Person'), target=Node(id='hearty stews and delicate dishes', type='Product'), type='PRODUCES')], source=Document(metadata={'source': 'dummytext.txt', 'id': '70627865c96d4092aaaed601fc3ac04b'}, page_content=\"Giovanni was not just a farmer but an alchemist of flavors, blending the fruits of his labor into exquisite oils and wines. His wife, Maria, was the soul of the kitchen. A masterful cook, Maria's dishes were a symphony of hearty stews and delicate\")),\n",
       " GraphDocument(nodes=[Node(id='her own touch', type='Method'), Node(id='the couple', type='Group'), Node(id='her', type='Person'), Node(id='her ancestors', type='Group'), Node(id='the secrets of the Sicilian kitchen', type='Concept'), Node(id='their home', type='Location')], relationships=[Relationship(source=Node(id='her', type='Person'), target=Node(id='her ancestors', type='Group'), type='PASSED_DOWN_FROM'), Relationship(source=Node(id='her', type='Person'), target=Node(id='her own touch', type='Method'), type='REFINED_WITH'), Relationship(source=Node(id='the couple', type='Group'), target=Node(id='their home', type='Location'), type='LIVES_IN'), Relationship(source=Node(id='the couple', type='Group'), target=Node(id='the secrets of the Sicilian kitchen', type='Concept'), type='INTRODUCED_TO')], source=Document(metadata={'source': 'dummytext.txt', 'id': '0bd624cea747fde8fade2759d653c0ed'}, page_content=\"stews and delicate pastries, passed down from her ancestors and refined with her own touch. The couple's home was a haven of culinary experimentation and love, where their children were introduced to the secrets of the Sicilian kitchen.\")),\n",
       " GraphDocument(nodes=[Node(id='The Storyteller and Innovator', type='Book'), Node(id='Antonio Caruso', type='Person')], relationships=[Relationship(source=Node(id='Antonio Caruso', type='Person'), target=Node(id='The Storyteller and Innovator', type='Book'), type='IS_AUTHOR_OF')], source=Document(metadata={'source': 'dummytext.txt', 'id': '442d38e82ff1de29c8842fcd2e0fb3bc'}, page_content='Antonio Caruso: The Storyteller and Innovator')),\n",
       " GraphDocument(nodes=[Node(id='Maria', type='Person'), Node(id='Giovanni', type='Person'), Node(id='Antonio', type='Person'), Node(id='None', type='None')], relationships=[Relationship(source=Node(id='Antonio', type='Person'), target=Node(id='Maria', type='Person'), type='IS_CHILD_OF'), Relationship(source=Node(id='Antonio', type='Person'), target=Node(id='Maria', type='Person'), type='INHERITS_PASSION_FROM'), Relationship(source=Node(id='Antonio', type='Person'), target=Node(id='Giovanni', type='Person'), type='IS_SON_OF'), Relationship(source=Node(id='Antonio', type='Person'), target=Node(id='Maria', type='Person'), type='IS_SON_OF'), Relationship(source=Node(id='Antonio', type='Person'), target=Node(id='None', type='None'), type='HAS_FLAIR_FOR_INNOVATION'), Relationship(source=Node(id='Antonio', type='Person'), target=Node(id='None', type='None'), type='IS_CHARISMATIC_STORYTELLER')], source=Document(metadata={'source': 'dummytext.txt', 'id': '38ab29838c9b07411337b6525db63a00'}, page_content=\"Antonio, Giovanni and Maria's eldest son, inherited his parents' passion but added his flair for innovation. A charismatic storyteller, Antonio was known for captivating his family and the village with tales of their ancestry and the island's\")),\n",
       " GraphDocument(nodes=[Node(id='Sicily', type='Location'), Node(id='Antonio', type='Person'), Node(id='chef', type='Occupation'), Node(id='Italy', type='Country'), Node(id='culinary prowess', type='Skill')], relationships=[Relationship(source=Node(id='Antonio', type='Person'), target=Node(id='chef', type='Occupation'), type='WORKS_AS'), Relationship(source=Node(id='Antonio', type='Person'), target=Node(id='Italy', type='Country'), type='IS_FROM'), Relationship(source=Node(id='Antonio', type='Person'), target=Node(id='culinary prowess', type='Skill'), type='HAS_SKILL'), Relationship(source=Node(id='Sicily', type='Location'), target=Node(id='Antonio', type='Person'), type='IS_FROM')], source=Document(metadata={'source': 'dummytext.txt', 'id': '990b459f0c6ba04befdabc36776a7c7d'}, page_content=\"and the island's history. His culinary prowess was unmatched, blending traditional Sicilian flavors with inventive techniques he picked up from his travels across Italy. Antonio became the village's go-to chef for weddings and grand feasts, creating\")),\n",
       " GraphDocument(nodes=[Node(id=\"Amico's signature style\", type='Style'), Node(id='Sicilian flavors', type='Cuisine'), Node(id='grand feasts', type='Event'), Node(id='dishes', type='Food'), Node(id='Tuscan flavors', type='Cuisine'), Node(id='Sicilian and Tuscan flavors', type='Fusion')], relationships=[Relationship(source=Node(id='grand feasts', type='Event'), target=Node(id='dishes', type='Food'), type='CREATED_BY'), Relationship(source=Node(id='grand feasts', type='Event'), target=Node(id='Sicilian flavors', type='Cuisine'), type='FEATURED'), Relationship(source=Node(id='grand feasts', type='Event'), target=Node(id='Tuscan flavors', type='Cuisine'), type='FEATURED'), Relationship(source=Node(id=\"Amico's signature style\", type='Style'), target=Node(id='Sicilian and Tuscan flavors', type='Fusion'), type='BASED_ON')], source=Document(metadata={'source': 'dummytext.txt', 'id': '91d5e0b1c1def50c7ed6156307b35edf'}, page_content=\"grand feasts, creating dishes that were both nostalgic and avant-garde. His most famous creation, a fusion of Sicilian and Tuscan flavors, laid the groundwork for what would later become Amico's signature style.\")),\n",
       " GraphDocument(nodes=[Node(id='Sofia', type='Person'), Node(id='Pietro', type='Person')], relationships=[Relationship(source=Node(id='Pietro', type='Person'), target=Node(id='Sofia', type='Person'), type='IS_PART_OF')], source=Document(metadata={'source': 'dummytext.txt', 'id': 'd14b7e898fe1c0e800e5bda81d44c27e'}, page_content='Pietro and Sofia: The Guardians of Tradition')),\n",
       " GraphDocument(nodes=[Node(id='Antonio', type='Person'), Node(id='baker', type='Occupation'), Node(id='eldest son', type='Family Member'), Node(id='sea', type='Location'), Node(id='Sofia', type='Person'), Node(id='Pietro', type='Person'), Node(id='family trattoria', type='Business')], relationships=[Relationship(source=Node(id='Pietro', type='Person'), target=Node(id='Antonio', type='Person'), type='IS_SON_OF'), Relationship(source=Node(id='Pietro', type='Person'), target=Node(id='Sofia', type='Person'), type='IS_HUSBAND_OF'), Relationship(source=Node(id='Pietro', type='Person'), target=Node(id='family trattoria', type='Business'), type='WORKS_AT'), Relationship(source=Node(id='Pietro', type='Person'), target=Node(id='eldest son', type='Family Member'), type='IS_FATHER_OF'), Relationship(source=Node(id='Pietro', type='Person'), target=Node(id='sea', type='Location'), type='LOVES'), Relationship(source=Node(id='Sofia', type='Person'), target=Node(id='Pietro', type='Person'), type='IS_WIFE_OF'), Relationship(source=Node(id='Sofia', type='Person'), target=Node(id='family trattoria', type='Business'), type='WORKS_AT'), Relationship(source=Node(id='Sofia', type='Person'), target=Node(id='baker', type='Occupation'), type='IS_BAKER_OF')], source=Document(metadata={'source': 'dummytext.txt', 'id': '0912a81cb39512e447e147df1a36772d'}, page_content=\"Pietro, Antonio's eldest son, was a skilled fisherman who loved the sea as much as the kitchen. His daily catches were the freshest seafood in the village, a staple in the family trattoria he ran with his wife, Sofia. Sofia was a baker par\")),\n",
       " GraphDocument(nodes=[Node(id='trattoria', type='Business'), Node(id=\"Sofia's hometown\", type='Location'), Node(id='pastries and bread', type='Food'), Node(id='Sofia', type='Person'), Node(id='Sicilian', type='Region')], relationships=[Relationship(source=Node(id='Sofia', type='Person'), target=Node(id='trattoria', type='Business'), type='WORKED_AT'), Relationship(source=Node(id='Sofia', type='Person'), target=Node(id='pastries and bread', type='Food'), type='CREATED'), Relationship(source=Node(id='trattoria', type='Business'), target=Node(id='Sicilian', type='Region'), type='OWNED_BY'), Relationship(source=Node(id='trattoria', type='Business'), target=Node(id=\"Sofia's hometown\", type='Location'), type='LOCATED_IN')], source=Document(metadata={'source': 'dummytext.txt', 'id': '7a5f2d2002bd7a1e06f736b630823688'}, page_content='Sofia was a baker par excellence, known for her incredible pastries and bread. Together, they transformed the trattoria into a local institution, famous for its warm hospitality and authentic flavors. The trattoria was a microcosm of Sicilian')),\n",
       " GraphDocument(nodes=[Node(id='Sofia', type='Person'), Node(id='Amico', type='Person'), Node(id='Pietro', type='Person')], relationships=[Relationship(source=Node(id='Pietro', type='Person'), target=Node(id='Amico', type='Person'), type='PARENT_OF'), Relationship(source=Node(id='Sofia', type='Person'), target=Node(id='Amico', type='Person'), type='PARENT_OF'), Relationship(source=Node(id='Amico', type='Person'), target=Node(id='Pietro', type='Person'), type='CHILD_OF'), Relationship(source=Node(id='Amico', type='Person'), target=Node(id='Sofia', type='Person'), type='CHILD_OF')], source=Document(metadata={'source': 'dummytext.txt', 'id': 'd0b38172850740d0d68ce51b5328812f'}, page_content='a microcosm of Sicilian culture, where stories were shared over plates of fresh pasta and glasses of homemade wine. Pietro and Sofia instilled in their children, including Amico, the values of hard work, respect for tradition, and the joy of feeding')),\n",
       " GraphDocument(nodes=[Node(id='feeding others', type='Activity'), Node(id='joy', type='Emotion')], relationships=[Relationship(source=Node(id='joy', type='Emotion'), target=Node(id='feeding others', type='Activity'), type='RELATED_TO')], source=Document(metadata={'source': 'dummytext.txt', 'id': 'a1421e01f7bfb2563c1e9e816e77dab7'}, page_content='and the joy of feeding others.')),\n",
       " GraphDocument(nodes=[Node(id='Matriarch', type='Concept'), Node(id='Mentor', type='Concept'), Node(id='The Matriarch and Mentor', type='Title'), Node(id='Nonna Lucia', type='Person')], relationships=[Relationship(source=Node(id='Nonna Lucia', type='Person'), target=Node(id='Mentor', type='Concept'), type='IS_MENTOR_TO'), Relationship(source=Node(id='Nonna Lucia', type='Person'), target=Node(id='Matriarch', type='Concept'), type='IS_MOTHER_OF'), Relationship(source=Node(id='Nonna Lucia', type='Person'), target=Node(id='The Matriarch and Mentor', type='Title'), type='HAS_TITLE')], source=Document(metadata={'source': 'dummytext.txt', 'id': '41e2d6cbaac3f75505bb42104013424b'}, page_content='Nonna Lucia: The Matriarch and Mentor')),\n",
       " GraphDocument(nodes=[Node(id='kitchen', type='Space'), Node(id='Antonio', type='Person'), Node(id='culinary', type='Field'), Node(id='Caruso', type='Family'), Node(id=\"Lucia's home\", type='Home'), Node(id='Lucia', type='Person'), Node(id=\"family's recipes\", type='Recipes'), Node(id='Amico', type='Person')], relationships=[Relationship(source=Node(id='Caruso', type='Family'), target=Node(id='Lucia', type='Person'), type='IS_MOTHER_OF'), Relationship(source=Node(id='Lucia', type='Person'), target=Node(id='Antonio', type='Person'), type='IS_SISTER_OF'), Relationship(source=Node(id='Lucia', type='Person'), target=Node(id='Amico', type='Person'), type='IS_GRANDMOTHER_OF'), Relationship(source=Node(id='Lucia', type='Person'), target=Node(id=\"family's recipes\", type='Recipes'), type='IS_CUSTODIAN_OF'), Relationship(source=Node(id='Lucia', type='Person'), target=Node(id='culinary', type='Field'), type='IS_SAGE_IN'), Relationship(source=Node(id='kitchen', type='Space'), target=Node(id=\"Lucia's home\", type='Home'), type='IS_LOCATED_IN')], source=Document(metadata={'source': 'dummytext.txt', 'id': 'c7c1a9c073ded36181b0e59f17e4ff40'}, page_content=\"Lucia, Antonio's sister and Amico's grandmother, was the matriarch of the Caruso family. A culinary sage, Nonna Lucia was the custodian of the family's recipes, a role she took very seriously. Her kitchen was a sacred space, where she taught her\")),\n",
       " GraphDocument(nodes=[Node(id=\"Nonna Lucia's cooking techniques\", type='Cooking Techniques'), Node(id='her grandchildren', type='Group of People'), Node(id='fresh pasta', type='Food Product'), Node(id='Nonna Lucia', type='Person'), Node(id='Amico', type='Person')], relationships=[Relationship(source=Node(id='Nonna Lucia', type='Person'), target=Node(id='Amico', type='Person'), type='TAUGHT'), Relationship(source=Node(id='Nonna Lucia', type='Person'), target=Node(id='Amico', type='Person'), type='INFLUENCED'), Relationship(source=Node(id='Amico', type='Person'), target=Node(id=\"Nonna Lucia's cooking techniques\", type='Cooking Techniques'), type='LEARNED'), Relationship(source=Node(id='Amico', type='Person'), target=Node(id='fresh pasta', type='Food Product'), type='MADE'), Relationship(source=Node(id='Nonna Lucia', type='Person'), target=Node(id='her grandchildren', type='Group of People'), type='TAUGHT')], source=Document(metadata={'source': 'dummytext.txt', 'id': '4ba6c83c850f35f9cf99ae8934f5a6e5'}, page_content=\"where she taught her grandchildren the art of Sicilian cooking. Under her watchful eye, Amico learned the delicate balance of flavors in a Caponata and the intricate process of making fresh pasta. Nonna Lucia's influence extended beyond the kitchen;\")),\n",
       " GraphDocument(nodes=[Node(id='her family', type='Group'), Node(id='she', type='Person'), Node(id='lessons about life, love, and the importance of community', type='Topic'), Node(id='pillar of strength and wisdom', type='Characteristic'), Node(id='love and a firm hand', type='Method')], relationships=[Relationship(source=Node(id='she', type='Person'), target=Node(id='pillar of strength and wisdom', type='Characteristic'), type='IS_A'), Relationship(source=Node(id='she', type='Person'), target=Node(id='her family', type='Group'), type='GUIDES'), Relationship(source=Node(id='she', type='Person'), target=Node(id='lessons about life, love, and the importance of community', type='Topic'), type='TEACHES'), Relationship(source=Node(id='she', type='Person'), target=Node(id='love and a firm hand', type='Method'), type='USES'), Relationship(source=Node(id='her family', type='Group'), target=Node(id='she', type='Person'), type='IS_GUIDED_BY')], source=Document(metadata={'source': 'dummytext.txt', 'id': '52fc61e10af23985756b8d5aa87dbae3'}, page_content='beyond the kitchen; she was a pillar of strength and wisdom, guiding her family with love and a firm hand. Her teachings went beyond recipes, imparting lessons about life, love, and the importance of community.')),\n",
       " GraphDocument(nodes=[Node(id='Amico', type='Person'), Node(id='Other Restaurants', type='Business'), Node(id=\"Amico's Family\", type='Family')], relationships=[Relationship(source=Node(id='Amico', type='Person'), target=Node(id='Other Restaurants', type='Business'), type='OWNS'), Relationship(source=Node(id='Amico', type='Person'), target=Node(id=\"Amico's Family\", type='Family'), type='FAMILY_MEMBER_OF')], source=Document(metadata={'source': 'dummytext.txt', 'id': '197e7a2e4da490c00c900f43981d7932'}, page_content=\"2. Other Restaurants Owned by Amico's Family: A Culinary Empire\")),\n",
       " GraphDocument(nodes=[Node(id='another', type='Person'), Node(id='different regions', type='Location'), Node(id='Caruso family', type='Family'), Node(id='Each member', type='Person'), Node(id='restaurants', type='Business'), Node(id='unique interpretations of Italian cuisine', type='Concept')], relationships=[Relationship(source=Node(id='Caruso family', type='Family'), target=Node(id='Each member', type='Person'), type='OWNED_BY'), Relationship(source=Node(id='Each member', type='Person'), target=Node(id='another', type='Person'), type='WORKED_UNDER'), Relationship(source=Node(id='Caruso family', type='Family'), target=Node(id='restaurants', type='Business'), type='OPERATED'), Relationship(source=Node(id='Each member', type='Person'), target=Node(id='different regions', type='Location'), type='WORKED_AT'), Relationship(source=Node(id='Caruso family', type='Family'), target=Node(id='unique interpretations of Italian cuisine', type='Concept'), type='CREATED')], source=Document(metadata={'source': 'dummytext.txt', 'id': 'e62df9679253105fdf4335393b9373e9'}, page_content='As the Caruso family grew, so did their culinary empire. Each member, having honed their skills under the tutelage of another, ventured into different regions, opening restaurants that showcased their unique interpretations of Italian cuisine. These')),\n",
       " GraphDocument(nodes=[Node(id='establishments', type='Establishment'), Node(id='Italian cuisine', type='Cuisine')], relationships=[Relationship(source=Node(id='Italian cuisine', type='Cuisine'), target=Node(id='establishments', type='Establishment'), type='RELATED_TO')], source=Document(metadata={'source': 'dummytext.txt', 'id': '240c341adb2039945bc621a1aa439291'}, page_content='Italian cuisine. These establishments, while diverse in their offerings, were united by a common thread: a deep respect for tradition and a commitment to excellence.')),\n",
       " GraphDocument(nodes=[Node(id='La Dolce Vita', type='Movie'), Node(id='Antonio Caruso', type='Person')], relationships=[Relationship(source=Node(id='La Dolce Vita', type='Movie'), target=Node(id='Antonio Caruso', type='Person'), type='OWNED_BY')], source=Document(metadata={'source': 'dummytext.txt', 'id': '99e14aa08242ca1d8f14b4eba511fdd2'}, page_content='1. La Dolce Vita - Rome: Owned by Antonio Caruso')),\n",
       " GraphDocument(nodes=[Node(id='Antonio', type='Person'), Node(id='La Dolce Vita', type='Restaurant'), Node(id='Rome', type='Location'), Node(id='Santa Caterina', type='Location'), Node(id='Trevi Fountain', type='Landmark'), Node(id='vibrant culture', type='Culture')], relationships=[Relationship(source=Node(id='Antonio', type='Person'), target=Node(id='La Dolce Vita', type='Restaurant'), type='OWNED'), Relationship(source=Node(id='Antonio', type='Person'), target=Node(id='Santa Caterina', type='Location'), type='WORKED_IN'), Relationship(source=Node(id='Antonio', type='Person'), target=Node(id='Rome', type='Location'), type='LIVES_IN'), Relationship(source=Node(id='Trevi Fountain', type='Landmark'), target=Node(id='La Dolce Vita', type='Restaurant'), type='LOCATED_NEAR'), Relationship(source=Node(id='Rome', type='Location'), target=Node(id='vibrant culture', type='Culture'), type='HAS_CULTURE'), Relationship(source=Node(id='Antonio', type='Person'), target=Node(id='La Dolce Vita', type='Restaurant'), type='OWNED')], source=Document(metadata={'source': 'dummytext.txt', 'id': '4e957117e341f8e72fc4f3d08ea94c2b'}, page_content='After years of perfecting his craft in Santa Caterina, Antonio ventured to Rome, the Eternal City, where he opened \"La Dolce Vita.\" Situated near the iconic Trevi Fountain, this restaurant was Antonio\\'s ode to Rome\\'s vibrant culture. Antonio brought')),\n",
       " GraphDocument(nodes=[Node(id='Pecorino Romano', type='Ingredient'), Node(id='Cacio e Pepe', type='Dish'), Node(id='Antonio', type='Person'), Node(id='Carbonara', type='Dish'), Node(id='restaurant', type='Restaurant'), Node(id='live classical music', type='Music Style'), Node(id='Truffle Risotto', type='Dish')], relationships=[Relationship(source=Node(id='Antonio', type='Person'), target=Node(id='Cacio e Pepe', type='Dish'), type='CREATED_MENU'), Relationship(source=Node(id='Antonio', type='Person'), target=Node(id='Carbonara', type='Dish'), type='CREATED_MENU'), Relationship(source=Node(id='Antonio', type='Person'), target=Node(id='Truffle Risotto', type='Dish'), type='CREATED_MENU'), Relationship(source=Node(id='Antonio', type='Person'), target=Node(id='Pecorino Romano', type='Ingredient'), type='CREATED_MENU'), Relationship(source=Node(id='restaurant', type='Restaurant'), target=Node(id='live classical music', type='Music Style'), type='FEATURES_AMBIANCE')], source=Document(metadata={'source': 'dummytext.txt', 'id': 'b1e7644de22d205a9b651736a1525a97'}, page_content=\"Antonio brought his innovative spirit to the city's classic dishes, offering a menu that included Cacio e Pepe and Carbonara, alongside his signature Truffle Risotto with Pecorino Romano. The restaurant's elegant ambiance, featuring live classical\")),\n",
       " GraphDocument(nodes=[Node(id='La Dolce Vita', type='Restaurant'), Node(id='Giovanni', type='Person'), Node(id='Rome', type='City'), Node(id='Antonio', type='Person')], relationships=[Relationship(source=Node(id='Antonio', type='Person'), target=Node(id='Giovanni', type='Person'), type='OWNED_BY'), Relationship(source=Node(id='Antonio', type='Person'), target=Node(id='La Dolce Vita', type='Restaurant'), type='WORKS_AT'), Relationship(source=Node(id='La Dolce Vita', type='Restaurant'), target=Node(id='Rome', type='City'), type='LOCATED_IN')], source=Document(metadata={'source': 'dummytext.txt', 'id': '52aef864c28461ef17b022761b73f9e9'}, page_content='live classical music, made it a popular destination. Antonio\\'s ability to blend tradition with modernity, a skill he had honed from his father Giovanni, made \"La Dolce Vita\" a culinary landmark in Rome.')),\n",
       " GraphDocument(nodes=[Node(id='Il Mare Nostrum - Amalfi Coast', type='Place'), Node(id='Pietro Caruso', type='Person')], relationships=[Relationship(source=Node(id='Il Mare Nostrum - Amalfi Coast', type='Place'), target=Node(id='Pietro Caruso', type='Person'), type='OWNED_BY')], source=Document(metadata={'source': 'dummytext.txt', 'id': '2bd8dee637cacce73e4c2cc960964ac9'}, page_content='2. Il Mare Nostrum - Amalfi Coast: Owned by Pietro Caruso')),\n",
       " GraphDocument(nodes=[Node(id='fishing', type='Activity'), Node(id='Il Mare Nostrum', type='Restaurant'), Node(id='Amalfi Coast', type='Location'), Node(id=\"Italy's coastal cuisine\", type='Cuisine'), Node(id='Pietro', type='Person'), Node(id='sea', type='Concept')], relationships=[Relationship(source=Node(id='Pietro', type='Person'), target=Node(id='Il Mare Nostrum', type='Restaurant'), type='OWNS'), Relationship(source=Node(id='Pietro', type='Person'), target=Node(id='fishing', type='Activity'), type='HAS_EXPERTISE_IN'), Relationship(source=Node(id='Pietro', type='Person'), target=Node(id='sea', type='Concept'), type='INHERITED_LOVE_FOR'), Relationship(source=Node(id='Il Mare Nostrum', type='Restaurant'), target=Node(id='Amalfi Coast', type='Location'), type='LOCATED_ON'), Relationship(source=Node(id='Il Mare Nostrum', type='Restaurant'), target=Node(id=\"Italy's coastal cuisine\", type='Cuisine'), type='SERVES_CUISINE_OF')], source=Document(metadata={'source': 'dummytext.txt', 'id': '5c59d3ca44d84312aec55b01d63278a5'}, page_content='Pietro, having inherited his father\\'s love for the sea, opened \"Il Mare Nostrum\" on the breathtaking Amalfi Coast. This restaurant was a celebration of Italy\\'s coastal cuisine, with a focus on the freshest seafood. Pietro\\'s expertise in fishing')),\n",
       " GraphDocument(nodes=[Node(id='him', type='Person'), Node(id='daily catch', type='Product'), Node(id='Grilled Octopus with Lemon and Herbs', type='Dish'), Node(id='expertise in fishing', type='Skill'), Node(id='Sofia', type='Person'), Node(id='Spaghetti alle Vongole', type='Dish'), Node(id='baking skills', type='Skill'), Node(id='menu', type='Menu')], relationships=[Relationship(source=Node(id='expertise in fishing', type='Skill'), target=Node(id='daily catch', type='Product'), type='ENSURES_QUALITY_OF'), Relationship(source=Node(id='Sofia', type='Person'), target=Node(id='him', type='Person'), type='IS_MARRIED_TO'), Relationship(source=Node(id='Sofia', type='Person'), target=Node(id='baking skills', type='Skill'), type='HAS_SKILL'), Relationship(source=Node(id='Grilled Octopus with Lemon and Herbs', type='Dish'), target=Node(id='menu', type='Menu'), type='IS_PART_OF_MENU'), Relationship(source=Node(id='Spaghetti alle Vongole', type='Dish'), target=Node(id='menu', type='Menu'), type='IS_PART_OF_MENU')], source=Document(metadata={'source': 'dummytext.txt', 'id': '2c01b2dc6426ce0aeb77ba7406406def'}, page_content=\"expertise in fishing ensured that the daily catch was of the highest quality, while his wife Sofia's baking skills added a unique twist to the menu. Signature dishes like Grilled Octopus with Lemon and Herbs and Spaghetti alle Vongole became instant\")),\n",
       " GraphDocument(nodes=[Node(id='Amalfi Coast', type='Location'), Node(id='Il Mare Nostrum', type='Restaurant'), Node(id='Vongole', type='Food')], relationships=[Relationship(source=Node(id='Vongole', type='Food'), target=Node(id='Amalfi Coast', type='Location'), type='IS_POPULAR_IN'), Relationship(source=Node(id='Il Mare Nostrum', type='Restaurant'), target=Node(id='Amalfi Coast', type='Location'), type='LOCATED_ON'), Relationship(source=Node(id='Il Mare Nostrum', type='Restaurant'), target=Node(id='Vongole', type='Food'), type='SERVES')], source=Document(metadata={'source': 'dummytext.txt', 'id': 'bddaffbb7acc94100b33e6e25ccc5f33'}, page_content='Vongole became instant classics. The stunning views of the Mediterranean, coupled with the restaurant\\'s serene ambiance, made \"Il Mare Nostrum\" a must-visit for anyone exploring the Amalfi Coast.')),\n",
       " GraphDocument(nodes=[Node(id='La Terra di Siena', type='Business'), Node(id='Sofia Caruso', type='Person')], relationships=[Relationship(source=Node(id='La Terra di Siena', type='Business'), target=Node(id='Sofia Caruso', type='Person'), type='OWNED_BY')], source=Document(metadata={'source': 'dummytext.txt', 'id': '8128c8f8a735c96aef85d1212045a75a'}, page_content='3. La Terra di Siena - Tuscany: Owned by Sofia Caruso')),\n",
       " GraphDocument(nodes=[Node(id='farm-to-table dining experience', type='Concept'), Node(id='Sofia', type='Person'), Node(id='Tuscany', type='Location'), Node(id='La Terra di Siena', type='Business')], relationships=[Relationship(source=Node(id='Sofia', type='Person'), target=Node(id='Tuscany', type='Location'), type='LIVES_IN'), Relationship(source=Node(id='Sofia', type='Person'), target=Node(id='La Terra di Siena', type='Business'), type='OWNS'), Relationship(source=Node(id='La Terra di Siena', type='Business'), target=Node(id='farm-to-table dining experience', type='Concept'), type='HAS_FEATURE')], source=Document(metadata={'source': 'dummytext.txt', 'id': '942da12ae5684c4bbf6793777e75f80b'}, page_content='Sofia, the family\\'s talented baker, found her calling amidst the rolling hills of Tuscany. She opened \"La Terra di Siena,\" a rustic retreat that emphasized a farm-to-table dining experience. The restaurant, housed in a beautifully restored')),\n",
       " GraphDocument(nodes=[Node(id='Tiramisu', type='Dessert'), Node(id='Tuscan cuisine', type='Cuisine'), Node(id='Sofia', type='Person'), Node(id='Pappardelle al Cinghiale', type='Cuisine'), Node(id='Bistecca alla Fiorentina', type='Cuisine'), Node(id='Panna Cotta', type='Dessert')], relationships=[Relationship(source=Node(id='Sofia', type='Person'), target=Node(id='Tiramisu', type='Dessert'), type='CREATED'), Relationship(source=Node(id='Sofia', type='Person'), target=Node(id='Panna Cotta', type='Dessert'), type='CREATED'), Relationship(source=Node(id='Bistecca alla Fiorentina', type='Cuisine'), target=Node(id='Tuscan cuisine', type='Cuisine'), type='SERVED_AT'), Relationship(source=Node(id='Pappardelle al Cinghiale', type='Cuisine'), target=Node(id='Tuscan cuisine', type='Cuisine'), type='SERVED_AT')], source=Document(metadata={'source': 'dummytext.txt', 'id': '3172b489acf84cbb9372877d17160e5a'}, page_content=\"a beautifully restored farmhouse, showcased the best of Tuscan cuisine, from Bistecca alla Fiorentina to Pappardelle al Cinghiale. Sofia's desserts, particularly her Tiramisu and Panna Cotta, were legendary, attracting visitors from far and wide.\")),\n",
       " GraphDocument(nodes=[Node(id='locally sourced materials', type='Material'), Node(id='vineyards and olive groves', type='Location'), Node(id='restaurant', type='Business'), Node(id='Sofia', type='Person'), Node(id='wine tastings and intimate dinners', type='Event')], relationships=[Relationship(source=Node(id='restaurant', type='Business'), target=Node(id='vineyards and olive groves', type='Location'), type='LOCATED_NEAR'), Relationship(source=Node(id='Sofia', type='Person'), target=Node(id='restaurant', type='Business'), type='OWNER_OF'), Relationship(source=Node(id='Sofia', type='Person'), target=Node(id='locally sourced materials', type='Material'), type='USES_LOCALLY_SOURCED_MATERIALS'), Relationship(source=Node(id='restaurant', type='Business'), target=Node(id='wine tastings and intimate dinners', type='Event'), type='SERVES_FOOD')], source=Document(metadata={'source': 'dummytext.txt', 'id': '683c289dd767b66cd0747423c5352c06'}, page_content=\"from far and wide. The restaurant's picturesque setting, surrounded by vineyards and olive groves, provided a perfect backdrop for wine tastings and intimate dinners. Sofia's attention to detail and her commitment to using locally sourced\")),\n",
       " GraphDocument(nodes=[Node(id='food enthusiasts', type='Group'), Node(id='La Terra di Siena', type='Company')], relationships=[Relationship(source=Node(id='La Terra di Siena', type='Company'), target=Node(id='food enthusiasts', type='Group'), type='IS_FAVORITE_AMONG')], source=Document(metadata={'source': 'dummytext.txt', 'id': '815933a0cb69ba12136a56ddfd67fb8a'}, page_content='using locally sourced ingredients made \"La Terra di Siena\" a favorite among food enthusiasts.')),\n",
       " GraphDocument(nodes=[Node(id='Amico Caruso', type='Person'), Node(id=\"Amico's\", type='Business')], relationships=[Relationship(source=Node(id=\"Amico's\", type='Business'), target=Node(id='Amico Caruso', type='Person'), type='OWNED_BY')], source=Document(metadata={'source': 'dummytext.txt', 'id': 'b6c3aedd4b2d76166493e6ed7e3c12ab'}, page_content=\"4. Amico's - New York City: Owned by Amico Caruso\")),\n",
       " GraphDocument(nodes=[Node(id='Amico', type='Person'), Node(id=\"Amico's\", type='Restaurant'), Node(id='New York City', type='City'), Node(id='menu', type='Menu')], relationships=[Relationship(source=Node(id='menu', type='Menu'), target=Node(id=\"Amico's\", type='Restaurant'), type='IS_PART_OF'), Relationship(source=Node(id=\"Amico's\", type='Restaurant'), target=Node(id='Amico', type='Person'), type='OWNED_BY'), Relationship(source=Node(id='New York City', type='City'), target=Node(id=\"Amico's\", type='Restaurant'), type='LOCATED_IN')], source=Document(metadata={'source': 'dummytext.txt', 'id': '9d0e2adcd1dedbe4f743160aeba19f4e'}, page_content='Amico, inspired by his family\\'s culinary legacy and his travels, opened \"Amico\\'s\" in the bustling metropolis of New York City. The restaurant was a modern take on Italian cuisine, blending traditional recipes with contemporary trends. The menu')),\n",
       " GraphDocument(nodes=[Node(id='Italian cuisine', type='Cuisine'), Node(id='Sicilian cuisine', type='Cuisine'), Node(id='Porcini Mushroom Risotto', type='Dish'), Node(id=\"Amico's\", type='Restaurant'), Node(id='Amico', type='Person'), Node(id='Burrata with Heirloom Tomatoes', type='Dish')], relationships=[Relationship(source=Node(id='Amico', type='Person'), target=Node(id=\"Amico's\", type='Restaurant'), type='OWNS'), Relationship(source=Node(id='Porcini Mushroom Risotto', type='Dish'), target=Node(id=\"Amico's\", type='Restaurant'), type='SERVED_AT'), Relationship(source=Node(id='Burrata with Heirloom Tomatoes', type='Dish'), target=Node(id=\"Amico's\", type='Restaurant'), type='SERVED_AT'), Relationship(source=Node(id='Sicilian cuisine', type='Cuisine'), target=Node(id='Italian cuisine', type='Cuisine'), type='INFLUENCED_BY')], source=Document(metadata={'source': 'dummytext.txt', 'id': 'd9e777b47bcf3e0e5834b44a7c81ddf1'}, page_content=\"trends. The menu featured a range of dishes, from Porcini Mushroom Risotto to Burrata with Heirloom Tomatoes. Amico's passion for Sicilian cuisine was evident in every dish, but he also incorporated influences from his experiences across Italy and\")),\n",
       " GraphDocument(nodes=[Node(id='Italy', type='Location'), Node(id='Amico', type='Person'), Node(id=\"Amico's\", type='Restaurant')], relationships=[Relationship(source=Node(id='Amico', type='Person'), target=Node(id=\"Amico's\", type='Restaurant'), type='OWNS'), Relationship(source=Node(id='Amico', type='Person'), target=Node(id=\"Amico's\", type='Restaurant'), type='HAS_PRESENCE'), Relationship(source=Node(id=\"Amico's\", type='Restaurant'), target=Node(id='Italy', type='Location'), type='LOCATED_IN')], source=Document(metadata={'source': 'dummytext.txt', 'id': '4d9ed4f09d1020290f4f8f9b43dedeeb'}, page_content='across Italy and beyond. \"Amico\\'s\" quickly became a culinary hotspot, attracting a diverse clientele, including celebrities and food critics. The restaurant\\'s chic interior and Amico\\'s charismatic presence made it a standout in the competitive New')),\n",
       " GraphDocument(nodes=[Node(id='competitive dining scene', type='Scene'), Node(id='New York', type='City')], relationships=[Relationship(source=Node(id='New York', type='City'), target=Node(id='competitive dining scene', type='Scene'), type='LOCATED_IN')], source=Document(metadata={'source': 'dummytext.txt', 'id': 'cc8b7533ae740cd2ed239fd12ddaee2a'}, page_content='in the competitive New York dining scene.')),\n",
       " GraphDocument(nodes=[Node(id='Lucia Caruso', type='Person'), Node(id='Bella Vita', type='Business')], relationships=[Relationship(source=Node(id='Bella Vita', type='Business'), target=Node(id='Lucia Caruso', type='Person'), type='OWNED_BY')], source=Document(metadata={'source': 'dummytext.txt', 'id': 'e47feff37e625af7d02618b0c5ade050'}, page_content='5. Bella Vita - Los Angeles: Owned by Lucia Caruso')),\n",
       " GraphDocument(nodes=[Node(id='Bella Vita', type='Restaurant'), Node(id='traditional recipes', type='Characteristic'), Node(id='Lucia', type='Person'), Node(id='culinary talent', type='Characteristic'), Node(id='grandmother', type='Person')], relationships=[Relationship(source=Node(id='Lucia', type='Person'), target=Node(id='grandmother', type='Person'), type='NAMED_AFTER'), Relationship(source=Node(id='Lucia', type='Person'), target=Node(id='culinary talent', type='Characteristic'), type='INHERITED_TALENT'), Relationship(source=Node(id='Bella Vita', type='Restaurant'), target=Node(id='Lucia', type='Person'), type='OWNED_BY'), Relationship(source=Node(id='grandmother', type='Person'), target=Node(id='traditional recipes', type='Characteristic'), type='TRADITIONAL_RECIPES')], source=Document(metadata={'source': 'dummytext.txt', 'id': '3cdce65d918fad129697685eb965ab9c'}, page_content='Lucia, named after her grandmother and inheriting her culinary talent, brought a piece of Sicily to sunny Los Angeles with \"Bella Vita.\" Lucia was a creative force, combining her grandmother\\'s traditional recipes with her flair for innovation. The')),\n",
       " GraphDocument(nodes=[Node(id='gluten-free pasta', type='Dish'), Node(id='organic salads', type='Dish'), Node(id='Cannoli', type='Dish'), Node(id='restaurant', type='Business'), Node(id='LA', type='Location'), Node(id='menu', type='Menu'), Node(id='Lasagna', type='Dish')], relationships=[Relationship(source=Node(id='LA', type='Location'), target=Node(id='restaurant', type='Business'), type='LOCATED_IN'), Relationship(source=Node(id='restaurant', type='Business'), target=Node(id='menu', type='Menu'), type='SERVES_MENU'), Relationship(source=Node(id='menu', type='Menu'), target=Node(id='gluten-free pasta', type='Dish'), type='FEATURES_DISHES'), Relationship(source=Node(id='menu', type='Menu'), target=Node(id='organic salads', type='Dish'), type='FEATURES_DISHES'), Relationship(source=Node(id='menu', type='Menu'), target=Node(id='Lasagna', type='Dish'), type='FEATURES_DISHES'), Relationship(source=Node(id='menu', type='Menu'), target=Node(id='Cannoli', type='Dish'), type='FEATURES_DISHES')], source=Document(metadata={'source': 'dummytext.txt', 'id': '346438e7ec702ad39d75d0064a045b1d'}, page_content='for innovation. The restaurant offered a menu that catered to LA\\'s diverse and health-conscious population, featuring dishes like gluten-free pasta and organic salads, alongside indulgent classics like Lasagna and Cannoli. \"Bella Vita\\'s\" rooftop')),\n",
       " GraphDocument(nodes=[Node(id='Bella Vita', type='Company'), Node(id='local artists', type='Group'), Node(id='sustainability', type='Cause'), Node(id='Lucia', type='Person'), Node(id='Italian-inspired cocktails', type='Drink'), Node(id='rooftop bar', type='Facility'), Node(id='small plates', type='Food')], relationships=[Relationship(source=Node(id='Bella Vita', type='Company'), target=Node(id='rooftop bar', type='Facility'), type='HAS_ROOFTOP_BAR'), Relationship(source=Node(id='Bella Vita', type='Company'), target=Node(id='Italian-inspired cocktails', type='Drink'), type='SERVES_COCKTAILS'), Relationship(source=Node(id='Bella Vita', type='Company'), target=Node(id='small plates', type='Food'), type='SERVES_SMALL_PLATES'), Relationship(source=Node(id='Lucia', type='Person'), target=Node(id='sustainability', type='Cause'), type='COMMITTED_TO'), Relationship(source=Node(id='Lucia', type='Person'), target=Node(id='local artists', type='Group'), type='SUPPORTS')], source=Document(metadata={'source': 'dummytext.txt', 'id': '0afa1ef186d3b0c910de12b3aa48f8be'}, page_content='\"Bella Vita\\'s\" rooftop bar, offering panoramic views of the city, became a popular spot for enjoying Italian-inspired cocktails and small plates. Lucia\\'s commitment to sustainability and her support for local artists made \"Bella Vita\" a hub for')),\n",
       " GraphDocument(nodes=[Node(id='Bella Vita', type='Business'), Node(id='food, art, and culture', type='Concepts')], relationships=[Relationship(source=Node(id='Bella Vita', type='Business'), target=Node(id='food, art, and culture', type='Concepts'), type='IS_A_HUB_FOR')], source=Document(metadata={'source': 'dummytext.txt', 'id': 'dc32c427eab07375a9843aa700346cbe'}, page_content='\"Bella Vita\" a hub for food, art, and culture.')),\n",
       " GraphDocument(nodes=[Node(id='Amico', type='Company'), Node(id='Social Causes', type='Social Cause'), Node(id='Community Involvement', type='Social Cause')], relationships=[Relationship(source=Node(id='Amico', type='Company'), target=Node(id='Community Involvement', type='Social Cause'), type='INVOLVED_IN'), Relationship(source=Node(id='Amico', type='Company'), target=Node(id='Social Causes', type='Social Cause'), type='SUPPORTS')], source=Document(metadata={'source': 'dummytext.txt', 'id': '9f5fae3d86033f93fd275b61a33f457b'}, page_content='3. Amicoâ€™s Community Involvement and Social Causes')),\n",
       " GraphDocument(nodes=[Node(id='their restaurants', type='Business'), Node(id='the power of food to make a difference', type='Philosophy'), Node(id='Caruso family', type='Family'), Node(id='their philosophy', type='Philosophy'), Node(id='various initiatives aimed at making a difference', type='Initiative')], relationships=[Relationship(source=Node(id='Caruso family', type='Family'), target=Node(id='their restaurants', type='Business'), type='INFLUENCED_BY'), Relationship(source=Node(id='Caruso family', type='Family'), target=Node(id='the power of food to make a difference', type='Philosophy'), type='BELIEVES_IN'), Relationship(source=Node(id='their philosophy', type='Philosophy'), target=Node(id='various initiatives aimed at making a difference', type='Initiative'), type='REFLECTED_BY')], source=Document(metadata={'source': 'dummytext.txt', 'id': '17effce1136d2b600eb97ba7078b80a9'}, page_content=\"The Caruso family's influence extended beyond their restaurants, as they collectively believed in the power of food to make a difference. Their commitment to social causes was a cornerstone of their philosophy, reflected in various initiatives aimed\")),\n",
       " GraphDocument(nodes=[Node(id='initiatives', type='Program'), Node(id='giving back to the community', type='Concept'), Node(id='cultural exchange', type='Concept')], relationships=[Relationship(source=Node(id='initiatives', type='Program'), target=Node(id='giving back to the community', type='Concept'), type='AIMED_AT'), Relationship(source=Node(id='initiatives', type='Program'), target=Node(id='cultural exchange', type='Concept'), type='PROMOTE')], source=Document(metadata={'source': 'dummytext.txt', 'id': '7e9bede6dae747189f18f94c18ee116d'}, page_content='initiatives aimed at giving back to the community and promoting cultural exchange.')),\n",
       " GraphDocument(nodes=[Node(id='Mentorship', type='Program'), Node(id='Workshops', type='Program'), Node(id='Culinary Workshops and Mentorship Programs', type='Organization')], relationships=[Relationship(source=Node(id='Workshops', type='Program'), target=Node(id='Culinary Workshops and Mentorship Programs', type='Organization'), type='OFFERED_BY'), Relationship(source=Node(id='Mentorship', type='Program'), target=Node(id='Culinary Workshops and Mentorship Programs', type='Organization'), type='OFFERED_BY')], source=Document(metadata={'source': 'dummytext.txt', 'id': '9814aa2f8156a6ee0a55f0fde98d35e1'}, page_content='1. Culinary Workshops and Mentorship Programs')),\n",
       " GraphDocument(nodes=[Node(id='baking classes', type='Course'), Node(id='Antonio', type='Person'), Node(id='classes in seafood preparation', type='Course'), Node(id='Caruso', type='Family'), Node(id='Sofia', type='Person'), Node(id='workshops in Rome', type='Event'), Node(id='Pietro', type='Person')], relationships=[Relationship(source=Node(id='Caruso', type='Family'), target=Node(id='Antonio', type='Person'), type='HAS_MEMBER'), Relationship(source=Node(id='Caruso', type='Family'), target=Node(id='Pietro', type='Person'), type='HAS_MEMBER'), Relationship(source=Node(id='Caruso', type='Family'), target=Node(id='Sofia', type='Person'), type='HAS_MEMBER'), Relationship(source=Node(id='Antonio', type='Person'), target=Node(id='workshops in Rome', type='Event'), type='HOSTS_WORKSHOP'), Relationship(source=Node(id='Pietro', type='Person'), target=Node(id='classes in seafood preparation', type='Course'), type='OFFERS_CLASS'), Relationship(source=Node(id='Sofia', type='Person'), target=Node(id='baking classes', type='Course'), type='OFFERS_CLASS')], source=Document(metadata={'source': 'dummytext.txt', 'id': '31df9ae2975f8ca52e67d3d93c0eea67'}, page_content='Each member of the Caruso family played a role in nurturing the next generation of chefs. Antonio hosted workshops in Rome, sharing his innovative techniques, while Pietro and Sofia offered classes in seafood preparation and baking, respectively.')),\n",
       " GraphDocument(nodes=[Node(id='aspiring chefs', type='Group'), Node(id='Lucia', type='Person'), Node(id='workshops', type='Event'), Node(id='sustainable cooking practices', type='Practice'), Node(id='organic and local ingredients', type='Concept')], relationships=[Relationship(source=Node(id='Lucia', type='Person'), target=Node(id='sustainable cooking practices', type='Practice'), type='PRACTICES'), Relationship(source=Node(id='Lucia', type='Person'), target=Node(id='aspiring chefs', type='Group'), type='TEACHES'), Relationship(source=Node(id='Lucia', type='Person'), target=Node(id='organic and local ingredients', type='Concept'), type='USES'), Relationship(source=Node(id='aspiring chefs', type='Group'), target=Node(id='Lucia', type='Person'), type='LEARNED_FROM'), Relationship(source=Node(id='aspiring chefs', type='Group'), target=Node(id='workshops', type='Event'), type='GAINED_EXPERIENCE')], source=Document(metadata={'source': 'dummytext.txt', 'id': '798fc3b3ac4bd3a54ca12e22bfeaebab'}, page_content=\"baking, respectively. Lucia, in Los Angeles, focused on sustainable cooking practices, teaching aspiring chefs the importance of using organic and local ingredients. These workshops provided invaluable hands-on experience, and the family's\")),\n",
       " GraphDocument(nodes=[Node(id='young chefs', type='Group'), Node(id='family', type='Family'), Node(id='diverse backgrounds', type='Background')], relationships=[Relationship(source=Node(id='family', type='Family'), target=Node(id='young chefs', type='Group'), type='OFFERS_GUIDANCE'), Relationship(source=Node(id='young chefs', type='Group'), target=Node(id='family', type='Family'), type='RECEIVES_GUIDANCE'), Relationship(source=Node(id='young chefs', type='Group'), target=Node(id='diverse backgrounds', type='Background'), type='FROM_BACKGROUND')], source=Document(metadata={'source': 'dummytext.txt', 'id': 'c7ca29d42a0c3f221c0f0736d6fb9b21'}, page_content=\"and the family's mentorship programs offered guidance and support to young chefs from diverse backgrounds.\")),\n",
       " GraphDocument(nodes=[Node(id='Restaurants', type='Business'), Node(id='Farmers', type='Person'), Node(id='Farm-to-Table Initiatives', type='Initiative'), Node(id='Consumers', type='Group'), Node(id='Chefs', type='Person')], relationships=[Relationship(source=Node(id='Farmers', type='Person'), target=Node(id='Farm-to-Table Initiatives', type='Initiative'), type='PARTICIPATE_IN'), Relationship(source=Node(id='Farmers', type='Person'), target=Node(id='Consumers', type='Group'), type='PROVIDE_FOR'), Relationship(source=Node(id='Farmers', type='Person'), target=Node(id='Restaurants', type='Business'), type='SELL_TO'), Relationship(source=Node(id='Farmers', type='Person'), target=Node(id='Chefs', type='Person'), type='PARTNER_WITH')], source=Document(metadata={'source': 'dummytext.txt', 'id': '7a2eaca874ad29704f3310fccc8aab91'}, page_content='2. Farm-to-Table Initiatives')),\n",
       " GraphDocument(nodes=[Node(id='sustainable and ethical food practices', type='Concept'), Node(id='Farm-to-Table initiative', type='Initiative'), Node(id='local farmers and producers', type='Group'), Node(id='all their restaurants', type='Business'), Node(id='Carusos', type='Person'), Node(id='Amico', type='Person')], relationships=[Relationship(source=Node(id='Carusos', type='Person'), target=Node(id='sustainable and ethical food practices', type='Concept'), type='ADVOCATES_FOR'), Relationship(source=Node(id='Amico', type='Person'), target=Node(id='Farm-to-Table initiative', type='Initiative'), type='SPEARHEADED'), Relationship(source=Node(id='Amico', type='Person'), target=Node(id='local farmers and producers', type='Group'), type='COLLABORATED_WITH'), Relationship(source=Node(id='Carusos', type='Person'), target=Node(id='all their restaurants', type='Business'), type='OWNED')], source=Document(metadata={'source': 'dummytext.txt', 'id': 'd976debbff403a622218f13a0eeb2671'}, page_content='The Carusos were strong advocates for sustainable and ethical food practices. Amico, in particular, spearheaded the \"Farm-to-Table\" initiative, collaborating with local farmers and producers across all their restaurants. This initiative ensured that')),\n",
       " GraphDocument(nodes=[Node(id='initiative', type='Program'), Node(id='local economy', type='Concept'), Node(id='environmental sustainability', type='Concept'), Node(id='establishments', type='Business'), Node(id='ingredients', type='Resource'), Node(id='family', type='Family'), Node(id='benefits', type='Concept')], relationships=[Relationship(source=Node(id='establishments', type='Business'), target=Node(id='ingredients', type='Resource'), type='USES'), Relationship(source=Node(id='initiative', type='Program'), target=Node(id='environmental sustainability', type='Concept'), type='PROMOTES'), Relationship(source=Node(id='initiative', type='Program'), target=Node(id='local economy', type='Concept'), type='SUPPORTS'), Relationship(source=Node(id='family', type='Family'), target=Node(id='benefits', type='Concept'), type='RAISES_AWARENESS_ABOUT')], source=Document(metadata={'source': 'dummytext.txt', 'id': '2c014819a229c5c43b07fbfeab658a3a'}, page_content='initiative ensured that their establishments used only the freshest, locally sourced ingredients, promoting environmental sustainability and supporting the local economy. The family also worked together to raise awareness about the benefits of')),\n",
       " GraphDocument(nodes=[Node(id='humans', type='People'), Node(id='seasonal and organic produce', type='Produce')], relationships=[Relationship(source=Node(id='seasonal and organic produce', type='Produce'), target=Node(id='humans', type='People'), type='CONSUMED_BY'), Relationship(source=Node(id='humans', type='People'), target=Node(id='seasonal and organic produce', type='Produce'), type='BENEFITED_FROM')], source=Document(metadata={'source': 'dummytext.txt', 'id': 'e7e9ec428e57fdb4fac355666fadc46e'}, page_content='about the benefits of consuming seasonal and organic produce.')),\n",
       " GraphDocument(nodes=[Node(id='Community', type='Group'), Node(id='Community Kitchens', type='Organization'), Node(id='Food Drives', type='Program')], relationships=[Relationship(source=Node(id='Community Kitchens', type='Organization'), target=Node(id='Food Drives', type='Program'), type='OPERATES'), Relationship(source=Node(id='Food Drives', type='Program'), target=Node(id='Community', type='Group'), type='SERVES')], source=Document(metadata={'source': 'dummytext.txt', 'id': '3860e1f4475cd4b68361865b12ead10c'}, page_content='3. Food for All: Community Kitchens and Food Drives')),\n",
       " GraphDocument(nodes=[Node(id='Food for All', type='Initiative'), Node(id='free meals', type='Service'), Node(id='community kitchens', type='Facility'), Node(id='restaurants', type='Business'), Node(id='Carusos', type='Person'), Node(id='homeless and low-income families', type='Group')], relationships=[Relationship(source=Node(id='Carusos', type='Person'), target=Node(id='Food for All', type='Initiative'), type='LAUNCHED'), Relationship(source=Node(id='Carusos', type='Person'), target=Node(id='community kitchens', type='Facility'), type='SET_UP'), Relationship(source=Node(id='Carusos', type='Person'), target=Node(id='restaurants', type='Business'), type='OPERATED'), Relationship(source=Node(id='Food for All', type='Initiative'), target=Node(id='free meals', type='Service'), type='PROVIDES'), Relationship(source=Node(id='Carusos', type='Person'), target=Node(id='homeless and low-income families', type='Group'), type='HELPED')], source=Document(metadata={'source': 'dummytext.txt', 'id': '84fdf5d071bb121a42201c33e7fd6736'}, page_content='In their efforts to address food insecurity, the Carusos launched the \"Food for All\" initiative, setting up community kitchens in each city where they had restaurants. These kitchens provided free meals to the homeless and low-income families,')),\n",
       " GraphDocument(nodes=[Node(id='patrons and local businesses', type='Group'), Node(id='everyone', type='Person'), Node(id='nutritious food', type='Resource'), Node(id='food drives', type='Event'), Node(id='each member', type='Person'), Node(id='low-income families', type='Group')], relationships=[Relationship(source=Node(id='low-income families', type='Group'), target=Node(id='each member', type='Person'), type='HAS_MEMBER'), Relationship(source=Node(id='low-income families', type='Group'), target=Node(id='nutritious food', type='Resource'), type='NEEDS_ACCESS_TO_NUTRITIOUS_FOOD'), Relationship(source=Node(id='everyone', type='Person'), target=Node(id='nutritious food', type='Resource'), type='HAS_ACCESS_TO'), Relationship(source=Node(id='food drives', type='Event'), target=Node(id='low-income families', type='Group'), type='ORGANIZED_BY'), Relationship(source=Node(id='patrons and local businesses', type='Group'), target=Node(id='food drives', type='Event'), type='DONATED_TO'), Relationship(source=Node(id='each member', type='Person'), target=Node(id='low-income families', type='Group'), type='CONTRIBUTED_TO')], source=Document(metadata={'source': 'dummytext.txt', 'id': '427f543f25ae4c0d300f318efbb0ae7c'}, page_content='low-income families, ensuring that everyone had access to nutritious food. Additionally, they organized food drives, collecting donations from patrons and local businesses. The initiative was a family effort, with each member contributing their')),\n",
       " GraphDocument(nodes=[Node(id='diversity', type='Concept'), Node(id='international cuisines', type='Cuisine'), Node(id='Sicilian dishes', type='Cuisine'), Node(id='festivals', type='Event'), Node(id='Carusos', type='Person/Family')], relationships=[Relationship(source=Node(id='Carusos', type='Person/Family'), target=Node(id='diversity', type='Concept'), type='CELEBRATES'), Relationship(source=Node(id='Carusos', type='Person/Family'), target=Node(id='festivals', type='Event'), type='HOSTS'), Relationship(source=Node(id='Carusos', type='Person/Family'), target=Node(id='Sicilian dishes', type='Cuisine'), type='SERVES'), Relationship(source=Node(id='Carusos', type='Person/Family'), target=Node(id='international cuisines', type='Cuisine'), type='SERVES')], source=Document(metadata={'source': 'dummytext.txt', 'id': 'd7f267a299b56290f38ac9dd48916ead'}, page_content='The Carusos believed in celebrating diversity through food and culture. They organized annual cultural and culinary festivals at their respective restaurants, showcasing traditional Sicilian dishes alongside other international cuisines. These')),\n",
       " GraphDocument(nodes=[Node(id='atmosphere', type='Atmosphere'), Node(id='artisan markets', type='Market'), Node(id='food', type='Food'), Node(id='cuisines', type='Cuisine'), Node(id='people', type='People'), Node(id='festivals', type='Event'), Node(id='live performances', type='Performance'), Node(id='cultural exchange', type='Exchange'), Node(id='cooking demonstrations', type='Demonstration')], relationships=[Relationship(source=Node(id='cuisines', type='Cuisine'), target=Node(id='festivals', type='Event'), type='FEATURED_IN'), Relationship(source=Node(id='live performances', type='Performance'), target=Node(id='festivals', type='Event'), type='INCLUDED_IN'), Relationship(source=Node(id='cooking demonstrations', type='Demonstration'), target=Node(id='festivals', type='Event'), type='INCLUDED_IN'), Relationship(source=Node(id='artisan markets', type='Market'), target=Node(id='festivals', type='Event'), type='INCLUDED_IN'), Relationship(source=Node(id='atmosphere', type='Atmosphere'), target=Node(id='festivals', type='Event'), type='CREATED_BY'), Relationship(source=Node(id='food', type='Food'), target=Node(id='festivals', type='Event'), type='FEATURED_IN'), Relationship(source=Node(id='cultural exchange', type='Exchange'), target=Node(id='festivals', type='Event'), type='INCLUDED_IN'), Relationship(source=Node(id='people', type='People'), target=Node(id='festivals', type='Event'), type='TARGET_AUDIENCE_OF')], source=Document(metadata={'source': 'dummytext.txt', 'id': '0dddd5ec9ebf0b19efa82eceef0dc803'}, page_content='cuisines. These festivals featured live performances, cooking demonstrations, and artisan markets, creating a vibrant and inclusive atmosphere. The events were not only a celebration of food but also a platform for cultural exchange, bringing people')),\n",
       " GraphDocument(nodes=[Node(id='people', type='Group'), Node(id='different backgrounds', type='Concept')], relationships=[Relationship(source=Node(id='people', type='Group'), target=Node(id='different backgrounds', type='Concept'), type='BRING_TOGETHER')], source=Document(metadata={'source': 'dummytext.txt', 'id': '4b0212302d6960e78f5c8a1bce725851'}, page_content='bringing people from different backgrounds together.')),\n",
       " GraphDocument(nodes=[Node(id='Local Artists and Artisans', type='Group'), Node(id='City Government', type='Organization')], relationships=[Relationship(source=Node(id='Local Artists and Artisans', type='Group'), target=Node(id='City Government', type='Organization'), type='SUPPORTED_BY')], source=Document(metadata={'source': 'dummytext.txt', 'id': '8113705eecd6357e0473a599c7a5db72'}, page_content='5. Support for Local Artists and Artisans')),\n",
       " GraphDocument(nodes=[Node(id='Amico', type='Person'), Node(id='Each restaurant', type='Restaurant'), Node(id='local artists', type='Group of Artists'), Node(id='exhibitions', type='Event'), Node(id='Caruso family', type='Family'), Node(id='Art and food were intertwined', type='Concept')], relationships=[Relationship(source=Node(id='Caruso family', type='Family'), target=Node(id='Art and food were intertwined', type='Concept'), type='HAS_PHILOSOPHY'), Relationship(source=Node(id='Caruso family', type='Family'), target=Node(id='Each restaurant', type='Restaurant'), type='OPERATES'), Relationship(source=Node(id='Amico', type='Person'), target=Node(id='local artists', type='Group of Artists'), type='IS_ADMIRER_OF'), Relationship(source=Node(id='Caruso family', type='Family'), target=Node(id='Each restaurant', type='Restaurant'), type='OPERATES'), Relationship(source=Node(id='Amico', type='Person'), target=Node(id='exhibitions', type='Event'), type='HOSTS')], source=Document(metadata={'source': 'dummytext.txt', 'id': 'cad56767939e950daa025cf34e5ce987'}, page_content=\"Art and food were intertwined in the Caruso family's philosophy. Each restaurant featured works by local artists, from paintings and sculptures to handcrafted ceramics. Amico, in particular, was a strong advocate for the arts, hosting exhibitions\")),\n",
       " GraphDocument(nodes=[Node(id='local musicians and performers', type='Person/Group'), Node(id='the family', type='Family'), Node(id='their establishments', type='Establishment'), Node(id='exhibitions and events', type='Event'), Node(id='local talent', type='Person/Group')], relationships=[Relationship(source=Node(id='local talent', type='Person/Group'), target=Node(id='exhibitions and events', type='Event'), type='PROMOTES'), Relationship(source=Node(id='local musicians and performers', type='Person/Group'), target=Node(id='the family', type='Family'), type='COLLABORATES_WITH'), Relationship(source=Node(id='the family', type='Family'), target=Node(id='local musicians and performers', type='Person/Group'), type='SUPPORTS'), Relationship(source=Node(id='their establishments', type='Establishment'), target=Node(id='the family', type='Family'), type='LOCATED_AT')], source=Document(metadata={'source': 'dummytext.txt', 'id': '3c964e82c5520bb12f1e9eda709692c2'}, page_content=\"hosting exhibitions and events that promoted local talent. The family's support extended beyond the visual arts, as they also collaborated with local musicians and performers, enriching the cultural experience at their establishments.\")),\n",
       " GraphDocument(nodes=[Node(id='John Doe', type='Person'), Node(id='Research Study', type='Study')], relationships=[Relationship(source=Node(id='John Doe', type='Person'), target=Node(id='Research Study', type='Study'), type='CONCLUDED')], source=Document(metadata={'source': 'dummytext.txt', 'id': '6f8b794f3246b0c1e1780bb4d4d5dc53'}, page_content='Conclusion')),\n",
       " GraphDocument(nodes=[Node(id='Caruso family', type='Family'), Node(id='culinary world', type='Field'), Node(id='Santa Caterina', type='Village'), Node(id='New York City', type='City')], relationships=[Relationship(source=Node(id='Caruso family', type='Family'), target=Node(id='Santa Caterina', type='Village'), type='IS_FROM'), Relationship(source=Node(id='Caruso family', type='Family'), target=Node(id='New York City', type='City'), type='LIVES_IN'), Relationship(source=Node(id='Caruso family', type='Family'), target=Node(id='culinary world', type='Field'), type='HAS_IMPACT_ON')], source=Document(metadata={'source': 'dummytext.txt', 'id': '6a4cb71f7e80dfe61b95dab53b24d2ce'}, page_content=\"The Caruso family's story is a rich tapestry of love, tradition, and culinary excellence. From the picturesque village of Santa Caterina to the bustling streets of New York City, they have left an indelible mark on the culinary world. Each family\")),\n",
       " GraphDocument(nodes=[Node(id='unique background', type='Background'), Node(id='talents', type='Talents'), Node(id='family', type='Family'), Node(id='each family member', type='Person'), Node(id='culinary empire', type='Business'), Node(id='commitment to social causes', type='Social Cause'), Node(id='continents', type='Geographic Region'), Node(id='community involvement', type='Community'), Node(id=\"family's legacy\", type='Legacy')], relationships=[Relationship(source=Node(id='family', type='Family'), target=Node(id='each family member', type='Person'), type='HAS_MEMBER'), Relationship(source=Node(id='each family member', type='Person'), target=Node(id=\"family's legacy\", type='Legacy'), type='CONTRIBUTES_TO'), Relationship(source=Node(id=\"family's legacy\", type='Legacy'), target=Node(id='culinary empire', type='Business'), type='IS_PART_OF'), Relationship(source=Node(id='culinary empire', type='Business'), target=Node(id='continents', type='Geographic Region'), type='SPANS_CONTINENTS'), Relationship(source=Node(id='each family member', type='Person'), target=Node(id='unique background', type='Background'), type='HAS_BACKGROUND'), Relationship(source=Node(id='each family member', type='Person'), target=Node(id='talents', type='Talents'), type='HAS_TALENTS'), Relationship(source=Node(id=\"family's legacy\", type='Legacy'), target=Node(id='commitment to social causes', type='Social Cause'), type='IS_REFLECTED_IN'), Relationship(source=Node(id='commitment to social causes', type='Social Cause'), target=Node(id='community involvement', type='Community'), type='INVOLVES_COMMUNITY')], source=Document(metadata={'source': 'dummytext.txt', 'id': 'f7ef982d4bae72e6723522839e959780'}, page_content=\"world. Each family member, with their unique background and talents, has contributed to the family's legacy, creating a culinary empire that spans continents. Their commitment to social causes and community involvement reflects their belief in the\")),\n",
       " GraphDocument(nodes=[Node(id='Caruso family', type='Family'), Node(id='good food', type='Food'), Node(id='tradition', type='Concept'), Node(id='innovation', type='Concept')], relationships=[Relationship(source=Node(id='Caruso family', type='Family'), target=Node(id='tradition', type='Concept'), type='IS_RELATED_TO'), Relationship(source=Node(id='Caruso family', type='Family'), target=Node(id='innovation', type='Concept'), type='IS_RELATED_TO'), Relationship(source=Node(id='Caruso family', type='Family'), target=Node(id='good food', type='Food'), type='SHARES_JOY_OF')], source=Document(metadata={'source': 'dummytext.txt', 'id': 'a7d2d246c8425014d3dca592ee8b298b'}, page_content=\"their belief in the power of food to connect people and make a positive impact. The Caruso family's journey is a testament to the enduring power of tradition, innovation, and the joy of sharing good food with others.\"))]"
      ]
     },
     "execution_count": 16,
     "metadata": {},
     "output_type": "execute_result"
    }
   ],
   "source": [
    "graph_documents"
   ]
  },
  {
   "cell_type": "code",
   "execution_count": 17,
   "metadata": {},
   "outputs": [
    {
     "data": {
      "application/vnd.jupyter.widget-view+json": {
       "model_id": "3f83d805f30140b9b1b09fc679d0b0b6",
       "version_major": 2,
       "version_minor": 0
      },
      "text/plain": [
       "GraphWidget(layout=Layout(height='800px', width='100%'))"
      ]
     },
     "metadata": {},
     "output_type": "display_data"
    }
   ],
   "source": [
    "def showGraph():\n",
    "    driver = GraphDatabase.driver(\n",
    "        uri = os.environ[\"NEO4J_URI\"],\n",
    "        auth = (os.environ[\"NEO4J_USERNAME\"],\n",
    "                os.environ[\"NEO4J_PASSWORD\"]))\n",
    "    session = driver.session()\n",
    "    widget = GraphWidget(graph = session.run(\"MATCH (s)-[r:!MENTIONS]->(t) RETURN s,r,t\").graph())\n",
    "    widget.node_label_mapping = 'id'\n",
    "    return widget\n",
    "\n",
    "showGraph()"
   ]
  },
  {
   "cell_type": "code",
   "execution_count": 18,
   "metadata": {},
   "outputs": [],
   "source": [
    "from langchain_community.embeddings import OllamaEmbeddings"
   ]
  },
  {
   "cell_type": "code",
   "execution_count": 19,
   "metadata": {},
   "outputs": [],
   "source": [
    "def get_embedding_function():\n",
    "    embeddings = OllamaEmbeddings(model=\"llama3.1\")\n",
    "    return embeddings"
   ]
  },
  {
   "cell_type": "code",
   "execution_count": 20,
   "metadata": {},
   "outputs": [],
   "source": [
    "import llama_cpp\n",
    "import instructor\n",
    "\n",
    "from llama_cpp.llama_speculative import LlamaPromptLookupDecoding\n",
    "from pydantic import BaseModel"
   ]
  },
  {
   "cell_type": "code",
   "execution_count": 21,
   "metadata": {},
   "outputs": [],
   "source": [
    "vector_index = Neo4jVector.from_existing_graph(\n",
    "    get_embedding_function(),\n",
    "    \n",
    "    search_type=\"hybrid\",\n",
    "    node_label=\"Document\",\n",
    "    text_node_properties=[\"text\"],\n",
    "    embedding_node_property=\"embedding\"\n",
    ")\n",
    "vector_retriever = vector_index.as_retriever()\n"
   ]
  },
  {
   "cell_type": "code",
   "execution_count": 22,
   "metadata": {},
   "outputs": [],
   "source": [
    "import multiprocessing\n",
    "from langchain_community.chat_models import ChatLlamaCpp"
   ]
  },
  {
   "cell_type": "code",
   "execution_count": 23,
   "metadata": {},
   "outputs": [],
   "source": [
    "local_model = r\"C:\\Users\\ADMIN\\Downloads\\Meta-Llama-3.1-8B-Instruct-Q4_K_M.gguf\""
   ]
  },
  {
   "cell_type": "code",
   "execution_count": null,
   "metadata": {},
   "outputs": [],
   "source": []
  },
  {
   "cell_type": "code",
   "execution_count": 24,
   "metadata": {},
   "outputs": [],
   "source": [
    "llama = llama_cpp.Llama(\n",
    "    model_path=local_model,\n",
    "    n_gpu_layers=-1,\n",
    "    chat_format=\"chatml\",\n",
    "    n_ctx=2048,\n",
    "    \n",
    "    logits_all=True,\n",
    "    verbose=False,\n",
    ")\n",
    "\n",
    "\n",
    "create = instructor.patch(\n",
    "    create=llama.create_chat_completion_openai_v1,\n",
    "    mode=instructor.Mode.JSON_SCHEMA, \n",
    ")\n",
    "class Entities(BaseModel):\n",
    "    \"\"\"Identifying information about entities.\"\"\"\n",
    "\n",
    "    names: list[str] = Field(\n",
    "        ...,\n",
    "        description=\"All the person, organization, or business entities that \"\n",
    "        \"appear in the text\")\n",
    "def llama_generated_querry(question):\n",
    "\n",
    "    user = create(\n",
    "    messages=[\n",
    "        {\n",
    "            \"role\": \"user\",\n",
    "            \"content\": f\"You are extracting organization and person entities from the text {question}\",\n",
    "        }\n",
    "    ],\n",
    "    response_model=Entities,\n",
    "    )\n",
    "\n",
    "    return user"
   ]
  },
  {
   "cell_type": "code",
   "execution_count": 25,
   "metadata": {},
   "outputs": [
    {
     "name": "stderr",
     "output_type": "stream",
     "text": [
      "c:\\Users\\ADMIN\\AppData\\Local\\Programs\\Python\\Python310\\lib\\site-packages\\pydantic\\json_schema.py:2179: PydanticJsonSchemaWarning: Default value default=Ellipsis description='All the person, organization, or business entities that appear in the text' extra={} is not JSON serializable; excluding default from JSON schema [non-serializable-default]\n",
      "  warnings.warn(message, PydanticJsonSchemaWarning)\n"
     ]
    },
    {
     "data": {
      "text/plain": [
       "Entities(names=['Nonna Lucia', 'Giovanni Caruso'])"
      ]
     },
     "execution_count": 25,
     "metadata": {},
     "output_type": "execute_result"
    }
   ],
   "source": [
    "llama_generated_querry('Who are Nonna Lucia and Giovanni Caruso?')"
   ]
  },
  {
   "cell_type": "code",
   "execution_count": 26,
   "metadata": {},
   "outputs": [
    {
     "data": {
      "text/plain": [
       "[]"
      ]
     },
     "execution_count": 26,
     "metadata": {},
     "output_type": "execute_result"
    }
   ],
   "source": [
    "graph.query(\"CREATE FULLTEXT INDEX entity IF NOT EXISTS FOR (e:__Entity__) ON EACH [e.id]\")"
   ]
  },
  {
   "cell_type": "code",
   "execution_count": 27,
   "metadata": {},
   "outputs": [],
   "source": [
    "def generate_full_text_query(input: str) -> str:\n",
    "    words = [el for el in remove_lucene_chars(input).split() if el]\n",
    "    if not words:\n",
    "        return \"\"\n",
    "    full_text_query = \" AND \".join([f\"{word}~2\" for word in words])\n",
    "    print(f\"Generated Query: {full_text_query}\")\n",
    "    return full_text_query.strip()\n",
    "\n",
    "\n",
    "# Fulltext index query\n",
    "def graph_retriever(question: str) -> str:\n",
    "    \"\"\"\n",
    "    Collects the neighborhood of entities mentioned\n",
    "    in the question\n",
    "    \"\"\"\n",
    "    result = \"\"\n",
    "    #entities = entity_chain.invoke({\"question\": question})\n",
    "    entities = llama_generated_querry(question)\n",
    "    for entity in entities.names:\n",
    "        response = graph.query(\n",
    "            \"\"\"CALL db.index.fulltext.queryNodes('entity', $query, {limit:2})\n",
    "            YIELD node,score\n",
    "            CALL {\n",
    "              WITH node\n",
    "              MATCH (node)-[r:!MENTIONS]->(neighbor)\n",
    "              RETURN node.id + ' - ' + type(r) + ' -> ' + neighbor.id AS output\n",
    "              UNION ALL\n",
    "              WITH node\n",
    "              MATCH (node)<-[r:!MENTIONS]-(neighbor)\n",
    "              RETURN neighbor.id + ' - ' + type(r) + ' -> ' +  node.id AS output\n",
    "            }\n",
    "            RETURN output LIMIT 50\n",
    "            \"\"\",\n",
    "            {\"query\": generate_full_text_query(entity)},\n",
    "        )\n",
    "        result += \"\\n\".join([el['output'] for el in response])\n",
    "    return result"
   ]
  },
  {
   "cell_type": "code",
   "execution_count": 34,
   "metadata": {},
   "outputs": [
    {
     "name": "stderr",
     "output_type": "stream",
     "text": [
      "c:\\Users\\ADMIN\\AppData\\Local\\Programs\\Python\\Python310\\lib\\site-packages\\pydantic\\json_schema.py:2179: PydanticJsonSchemaWarning: Default value default=Ellipsis description='All the person, organization, or business entities that appear in the text' extra={} is not JSON serializable; excluding default from JSON schema [non-serializable-default]\n",
      "  warnings.warn(message, PydanticJsonSchemaWarning)\n"
     ]
    },
    {
     "name": "stdout",
     "output_type": "stream",
     "text": [
      "Generated Query: Nonna~2 AND Lucia~2\n",
      "Generated Query: Giovanni~2 AND Caruso~2\n",
      "Nonna Lucia - INFLUENCED -> Amico\n",
      "Nonna Lucia - TAUGHT -> her grandchildren\n",
      "Nonna Lucia - TAUGHT -> Amico\n",
      "Nonna Lucia - HAS_TITLE -> The Matriarch and Mentor\n",
      "Nonna Lucia - IS_MOTHER_OF -> Matriarch\n",
      "Nonna Lucia - IS_MENTOR_TO -> Mentor\n",
      "Amico - LEARNED -> Nonna Lucia's cooking techniquesGiovanni Caruso - PRODUCES -> olives and grapes\n",
      "Giovanni Caruso - WORKS_AS -> farmer\n",
      "Giovanni Caruso - LIVES_IN -> Santa Caterina\n",
      "Giovanni Caruso - IS_DESCENDANT_OF -> Amico\n",
      "Giovanni Caruso - FAMILY_MEMBER_OF -> Maria\n"
     ]
    }
   ],
   "source": [
    "print(graph_retriever('Who are Nonna Lucia and Giovanni Caruso?'))"
   ]
  },
  {
   "cell_type": "code",
   "execution_count": 29,
   "metadata": {},
   "outputs": [],
   "source": [
    "def full_retriever(question: str):\n",
    "    graph_data = llama_generated_querry(question)\n",
    "    vector_data = [el.page_content for el in vector_retriever.invoke(question)]\n",
    "    final_data = f\"\"\"Graph data:\n",
    "{graph_data}\n",
    "vector data:\n",
    "{\"#Document \". join(vector_data)}\n",
    "    \"\"\"\n",
    "    return final_data"
   ]
  },
  {
   "cell_type": "code",
   "execution_count": 31,
   "metadata": {},
   "outputs": [
    {
     "name": "stderr",
     "output_type": "stream",
     "text": [
      "c:\\Users\\ADMIN\\AppData\\Local\\Programs\\Python\\Python310\\lib\\site-packages\\pydantic\\json_schema.py:2179: PydanticJsonSchemaWarning: Default value default=Ellipsis description='All the person, organization, or business entities that appear in the text' extra={} is not JSON serializable; excluding default from JSON schema [non-serializable-default]\n",
      "  warnings.warn(message, PydanticJsonSchemaWarning)\n"
     ]
    },
    {
     "name": "stdout",
     "output_type": "stream",
     "text": [
      "Graph data:\n",
      "names=['Nonna Lucia', 'Giovanni Caruso']\n",
      "vector data:\n",
      "\n",
      "text: Giovanni Caruso and Maria: The Founding Generation#Document \n",
      "text: Nonna Lucia: The Matriarch and Mentor#Document \n",
      "text: their belief in the power of food to connect people and make a positive impact. The Caruso family's journey is a testament to the enduring power of tradition, innovation, and the joy of sharing good food with others.#Document \n",
      "text: live classical music, made it a popular destination. Antonio's ability to blend tradition with modernity, a skill he had honed from his father Giovanni, made \"La Dolce Vita\" a culinary landmark in Rome.\n",
      "    \n"
     ]
    }
   ],
   "source": [
    "print(full_retriever('Who are Nonna Lucia and Giovanni Caruso?'))"
   ]
  },
  {
   "cell_type": "code",
   "execution_count": 32,
   "metadata": {},
   "outputs": [],
   "source": [
    "template = \"\"\"Answer the question based only on the following context:\n",
    "{context}\n",
    "\n",
    "Question: {question}\n",
    "Use natural language and be concise.\n",
    "Answer:\"\"\"\n",
    "prompt = ChatPromptTemplate.from_template(template)\n",
    "\n",
    "chain = (\n",
    "        {\n",
    "            \"context\": full_retriever,\n",
    "            \"question\": RunnablePassthrough(),\n",
    "        }\n",
    "    | prompt\n",
    "    | llm\n",
    "    | StrOutputParser()\n",
    ")"
   ]
  },
  {
   "cell_type": "code",
   "execution_count": 33,
   "metadata": {},
   "outputs": [
    {
     "name": "stderr",
     "output_type": "stream",
     "text": [
      "c:\\Users\\ADMIN\\AppData\\Local\\Programs\\Python\\Python310\\lib\\site-packages\\pydantic\\json_schema.py:2179: PydanticJsonSchemaWarning: Default value default=Ellipsis description='All the person, organization, or business entities that appear in the text' extra={} is not JSON serializable; excluding default from JSON schema [non-serializable-default]\n",
      "  warnings.warn(message, PydanticJsonSchemaWarning)\n",
      "c:\\Users\\ADMIN\\AppData\\Local\\Programs\\Python\\Python310\\lib\\site-packages\\pydantic\\json_schema.py:2179: PydanticJsonSchemaWarning: Default value default=Ellipsis description='All the person, organization, or business entities that appear in the text' extra={} is not JSON serializable; excluding default from JSON schema [non-serializable-default]\n",
      "  warnings.warn(message, PydanticJsonSchemaWarning)\n"
     ]
    },
    {
     "data": {
      "text/plain": [
       "'Nonna is likely the Italian word for \"grandmother\". In this context, it appears to refer to Lucia, who is described as the \"Matriarch and Mentor\" in the provided graph data.'"
      ]
     },
     "execution_count": 33,
     "metadata": {},
     "output_type": "execute_result"
    }
   ],
   "source": [
    "chain.invoke(\"tell me a brief about Nonna\")"
   ]
  }
 ],
 "metadata": {
  "kernelspec": {
   "display_name": "Python 3",
   "language": "python",
   "name": "python3"
  },
  "language_info": {
   "codemirror_mode": {
    "name": "ipython",
    "version": 3
   },
   "file_extension": ".py",
   "mimetype": "text/x-python",
   "name": "python",
   "nbconvert_exporter": "python",
   "pygments_lexer": "ipython3",
   "version": "3.10.0"
  }
 },
 "nbformat": 4,
 "nbformat_minor": 2
}
